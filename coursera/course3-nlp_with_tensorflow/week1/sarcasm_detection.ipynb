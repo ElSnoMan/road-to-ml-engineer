{
 "metadata": {
  "language_info": {
   "codemirror_mode": {
    "name": "ipython",
    "version": 3
   },
   "file_extension": ".py",
   "mimetype": "text/x-python",
   "name": "python",
   "nbconvert_exporter": "python",
   "pygments_lexer": "ipython3",
   "version": "3.8.6-final"
  },
  "orig_nbformat": 2,
  "kernelspec": {
   "name": "python3",
   "display_name": "Python 3"
  }
 },
 "nbformat": 4,
 "nbformat_minor": 2,
 "cells": [
  {
   "source": [
    "# Sarcasm Detection\n",
    "\n",
    "- [Sarcasm in News Headlines Dataset by Rishabh Misra](http://rishabhmisra.github.io/publications)\n",
    "- [Same Dataset on Kaggle](https://www.kaggle.com/rmisra/news-headlines-dataset-for-sarcasm-detection)\n",
    "\n",
    "Using what I've learned with Tokenizing, see if you can train a model to detect sarcasm in the News Articles of this dataset.\n"
   ],
   "cell_type": "markdown",
   "metadata": {}
  },
  {
   "cell_type": "code",
   "execution_count": 1,
   "metadata": {},
   "outputs": [],
   "source": [
    "\"\"\" Load the dataset\n",
    "\n",
    "I had to turn the Kaggle file into a valid List of Dictionaries JSON first, but now it should be easy to load with Python.\n",
    "\n",
    "You can also get the valid JSON sarcasm.json version that Laurence prepared using:\n",
    "\n",
    "```\n",
    "!wget --no-check-certificate \\\n",
    "    https://storage.googleapis.com/laurencemoroney-blog.appspot.com/sarcasm.json \\\n",
    "    -O ~/tensorflow_datasets/sarcasm.json\n",
    "```\n",
    "\"\"\"\n",
    "import json\n",
    "\n",
    "sarcasm_filepath = '/Users/carlos/tensorflow_datasets/sarcastic_headlines/Sarcasm_Headlines_Dataset.json'\n",
    "\n",
    "with open(sarcasm_filepath, 'r') as f:\n",
    "    datastore = json.load(f)\n",
    "\n",
    "sentences = list()\n",
    "labels = list()\n",
    "urls = list()\n",
    "\n",
    "for item in datastore:\n",
    "    sentences.append(item['headline'])\n",
    "    labels.append(item['is_sarcastic'])\n",
    "    urls.append(item['article_link'])"
   ]
  },
  {
   "cell_type": "code",
   "execution_count": 3,
   "metadata": {},
   "outputs": [
    {
     "output_type": "stream",
     "name": "stdout",
     "text": [
      "[  308 15115   679  3337  2298    48   382  2576 15116     6  2577  8434\n     0     0     0     0     0     0     0     0     0     0     0     0\n     0     0     0     0     0     0     0     0     0     0     0     0\n     0     0     0     0]\n(26709, 40)\n"
     ]
    }
   ],
   "source": [
    "\"\"\" Now the corpus can be tokenized \"\"\"\n",
    "from tensorflow.keras.preprocessing.text import Tokenizer\n",
    "from tensorflow.keras.preprocessing.sequence import pad_sequences\n",
    "\n",
    "tokenizer = Tokenizer(oov_token='<OOV>')\n",
    "tokenizer.fit_on_texts(sentences)\n",
    "word_index = tokenizer.word_index\n",
    "\n",
    "sequences = tokenizer.texts_to_sequences(sentences)\n",
    "padded = pad_sequences(sequences, padding='post')\n",
    "\n",
    "print(padded[0])    # observe the padded zeros in the matrix\n",
    "print(padded.shape) # We have 26,709 sentences and each one has been padded (if needed) to be 40 words long"
   ]
  },
  {
   "cell_type": "code",
   "execution_count": null,
   "metadata": {},
   "outputs": [],
   "source": []
  }
 ]
}