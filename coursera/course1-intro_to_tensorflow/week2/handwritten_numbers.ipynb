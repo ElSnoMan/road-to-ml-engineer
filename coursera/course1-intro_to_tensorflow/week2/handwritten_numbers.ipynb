{
 "metadata": {
  "language_info": {
   "codemirror_mode": {
    "name": "ipython",
    "version": 3
   },
   "file_extension": ".py",
   "mimetype": "text/x-python",
   "name": "python",
   "nbconvert_exporter": "python",
   "pygments_lexer": "ipython3",
   "version": "3.8.6-final"
  },
  "orig_nbformat": 2,
  "kernelspec": {
   "name": "python3",
   "display_name": "Python 3.8.6 64-bit ('road-to-ml-engineer-pxbKeJd0-py3.8': venv)",
   "metadata": {
    "interpreter": {
     "hash": "d916e02d396d23918371d70adfc43f0721d38ce5b5df02b7f176b7d3f3b35e95"
    }
   }
  }
 },
 "nbformat": 4,
 "nbformat_minor": 2,
 "cells": [
  {
   "source": [
    "# Exercise 2\n",
    "\n",
    "In the course you learned how to do classificaiton using Fashion MNIST, a data set containing items of clothing. There's another, similar dataset called MNIST which has items of handwriting -- the digits 0 through 9.\n",
    "\n",
    "Write an MNIST classifier that trains to 99% accuracy or above, and does it without a fixed number of epochs -- i.e. you should stop training once you reach that level of accuracy.\n",
    "\n",
    "## Some notes:\n",
    "\n",
    "* It should succeed in less than 10 epochs, so it is okay to change epochs= to 10, but nothing larger\n",
    "* When it reaches 99% or greater it should print out the string \"Reached 99% accuracy so cancelling training!\"\n",
    "* If you add any additional variables, make sure you use the same names as the ones used in the class"
   ],
   "cell_type": "markdown",
   "metadata": {}
  },
  {
   "cell_type": "code",
   "execution_count": 1,
   "metadata": {},
   "outputs": [],
   "source": [
    "import tensorflow as tf\n",
    "import tensorflow_datasets as tfds\n",
    "\n",
    "\n",
    "class AccuracyCallback(tf.keras.callbacks.Callback):\n",
    "    def on_epoch_end(self, epoch, logs={}):  # The training is listening for the on_epoch_end() function\n",
    "        if (logs.get('accuracy') > 0.99):\n",
    "            print(\"\\nReached 99% accuracy so cancelling training!\")\n",
    "            self.model.stop_training = True\n",
    "\n",
    "callbacks = AccuracyCallback()"
   ]
  },
  {
   "cell_type": "code",
   "execution_count": 2,
   "metadata": {},
   "outputs": [],
   "source": [
    "\"\"\" Load the dataset\n",
    "\n",
    "MNIST Dataset         https://www.tensorflow.org/datasets/catalog/mnist\n",
    "TFDS Docs for later   https://www.tensorflow.org/datasets/overview\n",
    "\n",
    "The Coursera lesson is a little outdated, but I'd also like to figure out how to use tfds to load MNIST in the correct format.\n",
    "\"\"\"\n",
    "(training_images, training_labels), (test_images, test_labels) = tf.keras.datasets.mnist.load_data()\n"
   ]
  },
  {
   "cell_type": "code",
   "execution_count": 3,
   "metadata": {},
   "outputs": [
    {
     "output_type": "stream",
     "name": "stdout",
     "text": [
      "Epoch 1/10\n",
      "1875/1875 [==============================] - 4s 2ms/step - loss: 0.1991 - accuracy: 0.9410\n",
      "Epoch 2/10\n",
      "1875/1875 [==============================] - 4s 2ms/step - loss: 0.0797 - accuracy: 0.9758\n",
      "Epoch 3/10\n",
      "1875/1875 [==============================] - 3s 2ms/step - loss: 0.0522 - accuracy: 0.9836\n",
      "Epoch 4/10\n",
      "1875/1875 [==============================] - 4s 2ms/step - loss: 0.0359 - accuracy: 0.9885\n",
      "Epoch 5/10\n",
      "1857/1875 [============================>.] - ETA: 0s - loss: 0.0277 - accuracy: 0.9911\n",
      "Reached 99% accuracy so cancelling training!\n",
      "1875/1875 [==============================] - 3s 2ms/step - loss: 0.0277 - accuracy: 0.9911\n"
     ]
    },
    {
     "output_type": "execute_result",
     "data": {
      "text/plain": [
       "<tensorflow.python.keras.callbacks.History at 0x130ff3b20>"
      ]
     },
     "metadata": {},
     "execution_count": 3
    }
   ],
   "source": [
    "\"\"\" However, I completed and submitted the challenge with the callback function above and the following code.\n",
    "\n",
    "* The training ends early on epoch 4 or 5\n",
    "\"\"\"\n",
    "training_images = training_images / 255.0\n",
    "test_images = test_images / 255.0\n",
    "\n",
    "model = tf.keras.models.Sequential([\n",
    "    tf.keras.layers.Flatten(),\n",
    "    tf.keras.layers.Dense(512, activation=tf.nn.relu),\n",
    "    tf.keras.layers.Dense(10, activation=tf.nn.softmax)\n",
    "])\n",
    "\n",
    "model.compile(optimizer='adam', loss='sparse_categorical_crossentropy', metrics=['accuracy'])\n",
    "model.fit(training_images, training_labels, epochs=10, callbacks=[callbacks])"
   ]
  },
  {
   "cell_type": "code",
   "execution_count": null,
   "metadata": {},
   "outputs": [],
   "source": []
  }
 ]
}