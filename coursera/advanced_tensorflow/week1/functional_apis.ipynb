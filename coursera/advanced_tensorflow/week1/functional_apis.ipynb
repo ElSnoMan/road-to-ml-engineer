{
 "cells": [
  {
   "cell_type": "code",
   "execution_count": 1,
   "source": [
    "import tensorflow as tf\n",
    "print(tf.version.VERSION)"
   ],
   "outputs": [],
   "metadata": {}
  },
  {
   "cell_type": "code",
   "execution_count": 1,
   "source": [
    "\"\"\" Declaring and stacking layers \"\"\"\n",
    "from tensorflow.keras.models import Model\n",
    "\n",
    "\n",
    "def build_model_with_functional():\n",
    "    input_layer = tf.keras.Input(shape=(28, 28))\n",
    "    flatten_layer = tf.keras.layers.Flatten()(input_layer)\n",
    "    first_dense = tf.keras.layers.Dense(128, activation=\"relu\")(flatten_layer)\n",
    "    output_layer = tf.keras.layers.Dense(10, activation=\"softmax\")(first_dense)\n",
    "    func_model = Model(inputs=input_layer, outputs=output_layer)\n",
    "    return func_model"
   ],
   "outputs": [],
   "metadata": {}
  },
  {
   "cell_type": "code",
   "execution_count": null,
   "source": [
    "\"\"\" Branching models \"\"\"\n",
    "from tensorflow.keras.layers import Dense, Concatenate\n",
    "\n",
    "layer1 = Dense(32)\n",
    "layer2_1 = Dense(32)(layer1)\n",
    "layer2_2 = Dense(32)(layer1)\n",
    "layer2_3 = Dense(32)(layer1)\n",
    "layer2_4 = Dense(32)(layer1)\n",
    "merge = Concatenate([layer2_1, layer2_2, layer2_3, layer2_4])\n",
    "\n",
    "\"\"\"\n",
    "            Layer 1\n",
    "    /       /      \\        \\\n",
    "Layer2_1 Layer2_2   Layer2_3   Layer2_4\n",
    "    \\       \\      /        /\n",
    "              Merge\n",
    "\"\"\""
   ],
   "outputs": [],
   "metadata": {}
  },
  {
   "cell_type": "code",
   "execution_count": null,
   "source": [
    "\"\"\" Multi Output Models\n",
    "\n",
    "Example from energy efficiency dataset:\n",
    "https://archive.ics.uci.edu/ml/datasets/Energy+efficiency\n",
    "\"\"\"\n",
    "from tensorflow.keras.layers import Input\n",
    "\n",
    "input_layer = Input(shape=(len(train .columns),))\n",
    "first_dense = Dense(128, activation=\"relu\")(input_layer)\n",
    "second_dense = Dense(128, activation=\"relu\")(first_dense)\n",
    "\n",
    "y1_output = Dense(1, name=\"y1_output\")(second_dense)\n",
    "third_dense = Dense(64, activation=\"relu\")(second_dense)\n",
    "y2_output = Dense(1, name=\"y2_output\")(third_dense)\n",
    "\n",
    "# Define the model with the input layer and a list of output layers\n",
    "model = Model(inputs=input_layer, outputs=[y1_output, y2_output])"
   ],
   "outputs": [],
   "metadata": {}
  }
 ],
 "metadata": {
  "orig_nbformat": 4,
  "language_info": {
   "name": "python",
   "version": "3.9.1",
   "mimetype": "text/x-python",
   "codemirror_mode": {
    "name": "ipython",
    "version": 3
   },
   "pygments_lexer": "ipython3",
   "nbconvert_exporter": "python",
   "file_extension": ".py"
  },
  "kernelspec": {
   "name": "python3",
   "display_name": "Python 3.9.1 64-bit ('road-to-ml-engineer-pxbKeJd0-py3.9': poetry)"
  },
  "interpreter": {
   "hash": "06d1a8670243f6744ca42c2931037a351a1de058950b13af6637e6bbeebbc532"
  }
 },
 "nbformat": 4,
 "nbformat_minor": 2
}