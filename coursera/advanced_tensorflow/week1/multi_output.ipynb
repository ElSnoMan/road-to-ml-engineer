{
 "cells": [
  {
   "cell_type": "markdown",
   "source": [
    "# Multi-Output Models\n",
    "\n",
    "* Using the [Energy Efficiency dataset](https://archive.ics.uci.edu/ml/datasets/Energy+efficiency)\n",
    "* [Google Colab](https://colab.research.google.com/drive/1a7IjqwBuf5c2QTYrolbU4Mx8g-kKy2jz#scrollTo=NGLR70vES5Pm)"
   ],
   "metadata": {}
  },
  {
   "cell_type": "code",
   "execution_count": null,
   "source": [
    "import tensorflow as tf\n",
    "import numpy as np\n",
    "import pandas as pd\n",
    "import matplotlib.pyplot as plt\n",
    "from tensorflow.keras.models import Model\n",
    "from tensorflow.keras.layers import Dense, Input\n",
    "from sklearn.model_selection import train_test_split\n",
    "\n",
    "print(pd.__version__)\n",
    "print(tf.version.VERSION)\n"
   ],
   "outputs": [],
   "metadata": {}
  },
  {
   "cell_type": "markdown",
   "source": [
    "# Utilities\n",
    "\n",
    "Define some utility functions"
   ],
   "metadata": {}
  },
  {
   "cell_type": "code",
   "execution_count": null,
   "source": [
    "def format_output(data):\n",
    "    y1 = data.pop(\"Y1\")\n",
    "    y1 = np.array(y1)\n",
    "    y2 = data.pop(\"Y2\")\n",
    "    y2 = np.array(y2)\n",
    "    return y1, y2\n",
    "\n",
    "\n",
    "def norm(x, train_stats):\n",
    "    return (x - train_stats[\"mean\"]) / train_stats[\"std\"]\n",
    "\n",
    "\n",
    "def plot_diff(y_true, y_pred, title=\"\"):\n",
    "    plt.scatter(y_true, y_pred)\n",
    "    plt.title(title)\n",
    "    plt.xlabel(\"True Values\")\n",
    "    plt.ylabel(\"Predictions\")\n",
    "    plt.axis(\"equal\")\n",
    "    plt.axis(\"square\")\n",
    "    plt.xlim(plt.xlim())\n",
    "    plt.ylim(plt.ylim())\n",
    "    plt.plot([-100, 100], [-100, 100])\n",
    "    plt.show()\n",
    "\n",
    "\n",
    "def plot_metrics(metric_name, title, history, ylim=5):\n",
    "    plt.title(title)\n",
    "    plt.ylim(0, ylim)\n",
    "    plt.plot(history.history[metric_name], color=\"blue\", label=metric_name)\n",
    "    plt.plot(history.history[\"val_\" + metric_name], color=\"green\", label=\"val_\" + metric_name)\n",
    "    plt.show()"
   ],
   "outputs": [],
   "metadata": {}
  },
  {
   "cell_type": "code",
   "execution_count": null,
   "source": [
    "# Download dataset\n",
    "!curl https://archive.ics.uci.edu/ml/machine-learning-databases/00242/ENB2012_data.xlsx -o ./data/ENB2012_data.xlsx"
   ],
   "outputs": [],
   "metadata": {}
  },
  {
   "cell_type": "markdown",
   "source": [
    "# Prepare the data\n",
    "\n",
    "Download the dataset and format it for training"
   ],
   "metadata": {}
  },
  {
   "cell_type": "code",
   "execution_count": null,
   "source": [
    "# Load data into a dataframe\n",
    "URI = \"./data/ENB2012_data.xlsx\" # umm.... I don't have this yet?\n",
    "df = pd.read_excel(URI)\n",
    "df = df.sample(frac=1).reset_index(drop=True)\n",
    "\n",
    "# Split data into training and test sets (80% train, 20% test)\n",
    "train, test = train_test_split(df, test_size=0.2)\n",
    "train_stats = train.describe()\n",
    "\n",
    "# Get Y1 and Y2 as the two outputs, then format them as np arrays\n",
    "train_stats.pop(\"Y1\")\n",
    "train_stats.pop(\"Y2\")\n",
    "train_stats = train_stats.transpose()\n",
    "train_Y = format_output(train)\n",
    "test_Y = format_output(test)\n",
    "\n",
    "# Normalize the data\n",
    "norm_train_X = norm(train)\n",
    "norm_test_X = norm(test)\n"
   ],
   "outputs": [],
   "metadata": {}
  },
  {
   "cell_type": "markdown",
   "source": [
    "# Build the model\n",
    "\n",
    "Using functional syntax so we can specify a list of outputs"
   ],
   "metadata": {}
  },
  {
   "cell_type": "code",
   "execution_count": null,
   "source": [
    "input_layer = Input(shape=(len(train .columns),))\n",
    "first_dense = Dense(128, activation=\"relu\")(input_layer)\n",
    "second_dense = Dense(128, activation=\"relu\")(first_dense)\n",
    "\n",
    "y1_output = Dense(1, name=\"y1_output\")(second_dense)\n",
    "third_dense = Dense(64, activation=\"relu\")(second_dense)\n",
    "y2_output = Dense(1, name=\"y2_output\")(third_dense)\n",
    "\n",
    "# Define the model with the input layer and a list of output layers\n",
    "model = Model(inputs=input_layer, outputs=[y1_output, y2_output])\n",
    "print(model.summary())"
   ],
   "outputs": [],
   "metadata": {}
  },
  {
   "cell_type": "markdown",
   "source": [
    "# Configure parameters\n",
    "\n",
    "Specify the optimizer, loss, and metrics for each output"
   ],
   "metadata": {}
  },
  {
   "cell_type": "code",
   "execution_count": null,
   "source": [
    "optimizer = tf.keras.optimizers.SGD(learning_rate=0.001)\n",
    "\n",
    "model.compile(\n",
    "    optimizer=optimizer,\n",
    "    loss={\"y1_output\": \"mse\", \"y2_output\": \"mse\"},\n",
    "    metrics={\n",
    "        \"y1_output\": tf.keras.metrics.RootMeanSquaredError(),\n",
    "        \"y2_output\": tf.keras.metrics.RootMeanSquaredError(),\n",
    "    }\n",
    ")"
   ],
   "outputs": [],
   "metadata": {}
  },
  {
   "cell_type": "markdown",
   "source": [
    "# Train the model"
   ],
   "metadata": {}
  },
  {
   "cell_type": "code",
   "execution_count": null,
   "source": [
    "history = model.fit(\n",
    "    norm_train_X,\n",
    "    train_Y,\n",
    "    epochs=500,\n",
    "    batch_size=10,\n",
    "    validation_data=(norm_test_X, test_Y),\n",
    ")"
   ],
   "outputs": [],
   "metadata": {}
  },
  {
   "cell_type": "markdown",
   "source": [
    "# Evaluate the model and plot metrics"
   ],
   "metadata": {}
  },
  {
   "cell_type": "code",
   "execution_count": null,
   "source": [
    "loss, Y1_loss, Y2_loss, Y1_rmse, Y2_rmse = model.evaluate(x=norm_test_X, y=test_Y)\n",
    "print(f\"Loss = {loss}, Y1_loss = {Y1_loss}, Y2_loss = {Y2_loss}, Y1_rmse = {Y1_rmse}, Y2_rmse = {Y2_rmse}\")"
   ],
   "outputs": [],
   "metadata": {}
  },
  {
   "cell_type": "code",
   "execution_count": null,
   "source": [
    "# Plot the loss and mse\n",
    "Y_pred = model.predict(norm_test_X)\n",
    "plot_diff(test_Y[0], Y_pred[0], \"Y1\")\n",
    "plot_diff(test_Y[1], Y_pred[1], \"Y2\")\n",
    "plot_metrics(metric_name=\"y1_output_root_mean_squared_error\", title=\"Y1 RMSE\", ylim=6)\n",
    "plot_metrics(metric_name=\"y2_output_root_mean_squared_error\", title=\"Y2 RMSE\", ylim=7)"
   ],
   "outputs": [],
   "metadata": {}
  }
 ],
 "metadata": {
  "orig_nbformat": 4,
  "language_info": {
   "name": "python",
   "version": "3.9.1",
   "mimetype": "text/x-python",
   "codemirror_mode": {
    "name": "ipython",
    "version": 3
   },
   "pygments_lexer": "ipython3",
   "nbconvert_exporter": "python",
   "file_extension": ".py"
  },
  "kernelspec": {
   "name": "python3",
   "display_name": "Python 3.9.1 64-bit ('road-to-ml-engineer-pxbKeJd0-py3.9': poetry)"
  },
  "interpreter": {
   "hash": "06d1a8670243f6744ca42c2931037a351a1de058950b13af6637e6bbeebbc532"
  }
 },
 "nbformat": 4,
 "nbformat_minor": 2
}