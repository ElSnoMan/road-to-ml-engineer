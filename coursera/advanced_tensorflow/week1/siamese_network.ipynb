{
 "cells": [
  {
   "cell_type": "code",
   "execution_count": null,
   "source": [
    "import tensorflow as tf\n",
    "from tensorflow.keras.models import Model\n",
    "from tensorflow.keras.layers import Dense, Input, Flatten, Dropout\n",
    "print(tf.__version__)"
   ],
   "outputs": [],
   "metadata": {}
  },
  {
   "cell_type": "markdown",
   "source": [
    "# Define a Base Network\n",
    "\n",
    "Using the Functional API, we can define a base network and use it in our Siamese Architecture"
   ],
   "metadata": {}
  },
  {
   "cell_type": "code",
   "execution_count": null,
   "source": [
    "def initialize_base_network():\n",
    "    input = Input(shape=(28, 28,))\n",
    "    x = Flatten()(input)\n",
    "    x = Dense(128, activation=\"relu\")(x)\n",
    "    x = Dropout(0.1)(x)\n",
    "    x = Dense(128, activation=\"relu\")(x)\n",
    "    x = Dropout(0.1)(x)\n",
    "    x = Dense(128, activation=\"relu\")(x)\n",
    "    return Model(inputs=input, outputs=x)\n"
   ],
   "outputs": [],
   "metadata": {}
  },
  {
   "cell_type": "markdown",
   "source": [
    "# Re-use the Base Network"
   ],
   "metadata": {}
  },
  {
   "cell_type": "code",
   "execution_count": null,
   "source": [
    "base_network = initialize_base_network()\n",
    "\n",
    "input_a = Input(shape=(28, 28,))\n",
    "input_b = Input(shape=(28, 28,))\n",
    "\n",
    "vect_output_a = base_network(input_a)\n",
    "vect_output_b = base_network(input_b)"
   ],
   "outputs": [],
   "metadata": {}
  },
  {
   "cell_type": "code",
   "execution_count": 12,
   "source": [
    "pairs = [\n",
    "    [\"a\", \"b\"],\n",
    "    [\"c\", \"d\"],\n",
    "    [\"e\", \"f\"],\n",
    "    [\"g\", \"h\"],\n",
    "    [\"i\", \"j\"],\n",
    "    [\"k\", \"l\"],\n",
    "    [\"m\", \"n\"],\n",
    "    [\"o\", \"p\"],\n",
    "    [\"q\", \"r\"],\n",
    "    [\"s\", \"t\"],\n",
    "    [\"u\", \"v\"],\n",
    "    [\"w\", \"x\"],\n",
    "    [\"y\", \"z\"],\n",
    "]"
   ],
   "outputs": [],
   "metadata": {}
  },
  {
   "cell_type": "code",
   "execution_count": 16,
   "source": [
    "[pair[0] for pair in pairs]"
   ],
   "outputs": [
    {
     "output_type": "execute_result",
     "data": {
      "text/plain": [
       "['a', 'c', 'e', 'g', 'i', 'k', 'm', 'o', 'q', 's', 'u', 'w', 'y']"
      ]
     },
     "metadata": {},
     "execution_count": 16
    }
   ],
   "metadata": {}
  }
 ],
 "metadata": {
  "orig_nbformat": 4,
  "language_info": {
   "name": "python",
   "version": "3.9.1",
   "mimetype": "text/x-python",
   "codemirror_mode": {
    "name": "ipython",
    "version": 3
   },
   "pygments_lexer": "ipython3",
   "nbconvert_exporter": "python",
   "file_extension": ".py"
  },
  "kernelspec": {
   "name": "python3",
   "display_name": "Python 3.9.1 64-bit ('road-to-ml-engineer-pxbKeJd0-py3.9': poetry)"
  },
  "interpreter": {
   "hash": "06d1a8670243f6744ca42c2931037a351a1de058950b13af6637e6bbeebbc532"
  }
 },
 "nbformat": 4,
 "nbformat_minor": 2
}