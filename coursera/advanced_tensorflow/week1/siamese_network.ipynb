{
 "cells": [
  {
   "cell_type": "code",
   "execution_count": null,
   "metadata": {},
   "outputs": [],
   "source": [
    "import tensorflow as tf\n",
    "from tensorflow.keras.models import Model\n",
    "from tensorflow.keras.layers import Input, Flatten, Dense, Dropout, Lambda\n",
    "from tensorflow.keras.optimizers import RMSprop\n",
    "from tensorflow.keras.datasets import fashion_mnist\n",
    "from tensorflow.python.keras.utils.vis_utils import plot_model\n",
    "from keras import backend as K\n",
    "\n",
    "import numpy as np\n",
    "import matplotlib.pyplot as plt\n",
    "from PIL import Image, ImageFont, ImageDraw\n",
    "import random\n",
    "\n",
    "print(tf.__version__)"
   ]
  },
  {
   "cell_type": "markdown",
   "metadata": {},
   "source": [
    "# Define a Base Network\n",
    "\n",
    "Using the Functional API, we can define a base network and use it in our Siamese Architecture"
   ]
  },
  {
   "cell_type": "code",
   "execution_count": null,
   "metadata": {},
   "outputs": [],
   "source": [
    "def initialize_base_network():\n",
    "    input = Input(shape=(28, 28,))\n",
    "    x = Flatten()(input)\n",
    "    x = Dense(128, activation=\"relu\")(x)\n",
    "    x = Dropout(0.1)(x)\n",
    "    x = Dense(128, activation=\"relu\")(x)\n",
    "    x = Dropout(0.1)(x)\n",
    "    x = Dense(128, activation=\"relu\")(x)\n",
    "    return Model(inputs=input, outputs=x)\n"
   ]
  },
  {
   "cell_type": "markdown",
   "metadata": {},
   "source": [
    "# Re-use the Base Network"
   ]
  },
  {
   "cell_type": "code",
   "execution_count": null,
   "metadata": {},
   "outputs": [],
   "source": [
    "base_network = initialize_base_network()\n",
    "\n",
    "input_a = Input(shape=(28, 28,))\n",
    "input_b = Input(shape=(28, 28,))\n",
    "\n",
    "vect_output_a = base_network(input_a)\n",
    "vect_output_b = base_network(input_b)"
   ]
  },
  {
   "cell_type": "code",
   "execution_count": 12,
   "metadata": {},
   "outputs": [],
   "source": [
    "pairs = [\n",
    "    [\"a\", \"b\"],\n",
    "    [\"c\", \"d\"],\n",
    "    [\"e\", \"f\"],\n",
    "    [\"g\", \"h\"],\n",
    "    [\"i\", \"j\"],\n",
    "    [\"k\", \"l\"],\n",
    "    [\"m\", \"n\"],\n",
    "    [\"o\", \"p\"],\n",
    "    [\"q\", \"r\"],\n",
    "    [\"s\", \"t\"],\n",
    "    [\"u\", \"v\"],\n",
    "    [\"w\", \"x\"],\n",
    "    [\"y\", \"z\"],\n",
    "]"
   ]
  },
  {
   "cell_type": "code",
   "execution_count": 16,
   "metadata": {},
   "outputs": [
    {
     "data": {
      "text/plain": [
       "['a', 'c', 'e', 'g', 'i', 'k', 'm', 'o', 'q', 's', 'u', 'w', 'y']"
      ]
     },
     "execution_count": 16,
     "metadata": {},
     "output_type": "execute_result"
    }
   ],
   "source": [
    "[pair[0] for pair in pairs]"
   ]
  }
 ],
 "metadata": {
  "interpreter": {
   "hash": "06d1a8670243f6744ca42c2931037a351a1de058950b13af6637e6bbeebbc532"
  },
  "kernelspec": {
   "display_name": "Python 3.9.1 64-bit ('road-to-ml-engineer-pxbKeJd0-py3.9': poetry)",
   "name": "python3"
  },
  "language_info": {
   "codemirror_mode": {
    "name": "ipython",
    "version": 3
   },
   "file_extension": ".py",
   "mimetype": "text/x-python",
   "name": "python",
   "nbconvert_exporter": "python",
   "pygments_lexer": "ipython3",
   "version": "3.9.1"
  },
  "orig_nbformat": 4
 },
 "nbformat": 4,
 "nbformat_minor": 2
}
