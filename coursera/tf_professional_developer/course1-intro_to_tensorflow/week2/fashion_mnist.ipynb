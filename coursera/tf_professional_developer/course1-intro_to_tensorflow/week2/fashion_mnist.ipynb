{
 "metadata": {
  "language_info": {
   "codemirror_mode": {
    "name": "ipython",
    "version": 3
   },
   "file_extension": ".py",
   "mimetype": "text/x-python",
   "name": "python",
   "nbconvert_exporter": "python",
   "pygments_lexer": "ipython3",
   "version": "3.8.6-final"
  },
  "orig_nbformat": 2,
  "kernelspec": {
   "name": "python3",
   "display_name": "Python 3.8.6 64-bit ('road-to-ml-engineer-Og1P6ykn-py3.8': venv)",
   "metadata": {
    "interpreter": {
     "hash": "71bb5121def52a6858605b059a6974bc47b3f7a78867bcbe48ea8c0eab605482"
    }
   }
  }
 },
 "nbformat": 4,
 "nbformat_minor": 2,
 "cells": [
  {
   "cell_type": "code",
   "execution_count": null,
   "metadata": {},
   "outputs": [],
   "source": [
    "import tensorflow as tf\n",
    "print(tf.__version__)"
   ]
  },
  {
   "cell_type": "code",
   "execution_count": null,
   "metadata": {},
   "outputs": [],
   "source": [
    "\"\"\" Load the Fashion MNIST dataset \"\"\"\n",
    "mnist = tf.keras.datasets.fashion_mnist\n",
    "(training_images, training_labels), (test_images, test_labels) = mnist.load_data()"
   ]
  },
  {
   "cell_type": "code",
   "execution_count": null,
   "metadata": {},
   "outputs": [],
   "source": [
    "\"\"\" Explore what the data looks like and feel free to experiment! Try 0 first, then 42\"\"\"\n",
    "import matplotlib.pyplot as plt\n",
    "\n",
    "plt.imshow(training_images[42])\n",
    "print(training_labels[42])\n",
    "print(training_images[42])"
   ]
  },
  {
   "cell_type": "code",
   "execution_count": null,
   "metadata": {},
   "outputs": [],
   "source": [
    "\"\"\" Our images have pixels in the range of 0-255, but Neural Networks work best with normalized data - so let's change each one from 0-1 instead.\n",
    "\n",
    "This is called `Normalizing` and is easily done by diving the value of each pixel by 255\n",
    "\n",
    "* In Python, you can do this against an ENTIRE array in a single line as shown below\n",
    "\"\"\"\n",
    "training_images = training_images / 255.0\n",
    "test_images = test_images / 255.0"
   ]
  },
  {
   "cell_type": "code",
   "execution_count": null,
   "metadata": {},
   "outputs": [],
   "source": [
    "\"\"\" Now I can define the model.\n",
    "\n",
    "* Sequential: Defines a SEQUENCE of layers in the Neural Network\n",
    "* Flatten: Remember earlier when our images where squares? Flatten just takes that square and turns it into a 1-dimensional set\n",
    "* Dense: Add a layer of Neurons. Each layer of neurons needs an Activation Function to tell them what to do\n",
    "* Relu: Effectively means \"If X>0 return X, else return 0\" - so it only passes values 0 or greater to the next layer in the network\n",
    "* Softmax: Takes a set of values and picks the biggest one. For example, if the output of the last layer looks like\n",
    "\n",
    "    [0.1, 0.1, 0.05, 0.1, 9.5, 0.1, 0.05, 0.05, 0.05]\n",
    "\n",
    "    It saves you from having to fish for the biggest value and turns it into [0, 0, 0, 0, 1, 0, 0, 0, 0] - The goal is to save a lot of coding!\n",
    "\"\"\"\n",
    "model = tf.keras.models.Sequential([\n",
    "    tf.keras.layers.Flatten(),                           # Input Layer     - Flatten the 28x28 image to a 1-dimensional set\n",
    "    tf.keras.layers.Dense(128, activation=tf.nn.relu),   # Middle Layer(s) - aka Hidden Layers, try to figure out the Rules between them\n",
    "    tf.keras.layers.Dense(10, activation=tf.nn.softmax)  # Output Layer    - There are 10 categories, so return the category with the highest probability\n",
    "])"
   ]
  },
  {
   "cell_type": "code",
   "execution_count": null,
   "metadata": {},
   "outputs": [],
   "source": [
    "\"\"\" Compile and Train the Model \"\"\"\n",
    "model.compile(\n",
    "    optimizer=tf.optimizers.Adam(),\n",
    "    loss=tf.losses.SparseCategoricalCrossentropy(),\n",
    "    metrics='accuracy'\n",
    ")\n",
    "model.fit(training_images, training_labels, epochs=5)"
   ]
  },
  {
   "cell_type": "code",
   "execution_count": null,
   "metadata": {},
   "outputs": [],
   "source": [
    "\"\"\" Test the Trained Model against images it hasn't seen yet.\n",
    "\n",
    "We would expect some errors since we don't have 100% accuracy, but if the evaluation is WAY different, then we have a problem...\n",
    "\"\"\"\n",
    "model.evaluate(test_images, test_labels)"
   ]
  },
  {
   "cell_type": "code",
   "execution_count": null,
   "metadata": {},
   "outputs": [],
   "source": [
    "\"\"\" Exercise 1\n",
    "\n",
    "For this first exercise run the below code: It creates a set of classifications for each of the test images, and then prints the first entry in the classifications. The output, after you run it, is a list of numbers. Why do you think this is, and what do those numbers represent?\n",
    "\"\"\"\n",
    "classifications = model.predict(test_images)\n",
    "print(classifications[0])"
   ]
  },
  {
   "source": [
    "### My Answer\n",
    "\n",
    "For each image, a probability is created for each category where 10 is 100% probability.\n",
    "Since there are 10 categories, there are 10 items in the list and each position corresponds to a different category aka label.\n",
    "\n",
    "In this case, because we are using the `Softmax` activation in the output layer, the highest probability will stand out:\n",
    "\n",
    "[0, 0, 0, 0, 0, 0, 0, 0, 0, 1]"
   ],
   "cell_type": "markdown",
   "metadata": {}
  },
  {
   "cell_type": "code",
   "execution_count": null,
   "metadata": {},
   "outputs": [],
   "source": [
    " # prints a 7 which is tied to a specific label when we normalized the labels\n",
    " print(test_labels[9])"
   ]
  },
  {
   "cell_type": "code",
   "execution_count": 1,
   "metadata": {},
   "outputs": [
    {
     "output_type": "stream",
     "name": "stdout",
     "text": [
      "Downloading data from https://storage.googleapis.com/tensorflow/tf-keras-datasets/mnist.npz\n",
      "11493376/11490434 [==============================] - 1s 0us/step\n",
      "Epoch 1/5\n",
      "1875/1875 [==============================] - 5s 3ms/step - loss: 0.2553 - accuracy: 0.9274\n",
      "Epoch 2/5\n",
      "1875/1875 [==============================] - 5s 3ms/step - loss: 0.1133 - accuracy: 0.9664\n",
      "Epoch 3/5\n",
      "1875/1875 [==============================] - 5s 3ms/step - loss: 0.0784 - accuracy: 0.9763\n",
      "Epoch 4/5\n",
      "1875/1875 [==============================] - 5s 3ms/step - loss: 0.0590 - accuracy: 0.9818\n",
      "Epoch 5/5\n",
      "1875/1875 [==============================] - 5s 3ms/step - loss: 0.0451 - accuracy: 0.9858\n",
      "313/313 [==============================] - 1s 2ms/step - loss: 0.0725 - accuracy: 0.9771\n",
      "[1.1362819e-06 6.9358670e-08 1.5741627e-04 7.9357764e-04 3.1485832e-09\n",
      " 3.5293901e-08 3.8833398e-10 9.9902177e-01 2.1075966e-05 4.9223440e-06]\n",
      "7\n"
     ]
    }
   ],
   "source": [
    "\"\"\" Exercise 2\n",
    "\n",
    "Let's now look at the layers in your model. Experiment with different values for the dense layer with 512 neurons. What different results do you get for loss, training time, etc.? Why do you think that's the case?\n",
    "\"\"\"\n",
    "import tensorflow as tf\n",
    "\n",
    "# 1. Load Data\n",
    "mnist = tf.keras.datasets.mnist\n",
    "(training_images, training_labels), (test_images, test_labels) = mnist.load_data()\n",
    "\n",
    "# 2. Preprocess the data - aka normalize image data\n",
    "training_images = training_images / 255.0\n",
    "test_images = test_images / 255.0\n",
    "\n",
    "# 3. Define the model\n",
    "model = tf.keras.Sequential([\n",
    "    tf.keras.layers.Flatten(),\n",
    "    tf.keras.layers.Dense(128, activation=tf.nn.relu),\n",
    "    tf.keras.layers.Dense(10, activation=tf.nn.softmax)\n",
    "])\n",
    "\n",
    "# 4. Compile the model\n",
    "model.compile(\n",
    "    optimizer=tf.optimizers.Adam(),\n",
    "    loss=tf.losses.SparseCategoricalCrossentropy(),\n",
    "    metrics=['accuracy']\n",
    ")\n",
    "\n",
    "# 5. Fit aka Train the Model\n",
    "model.fit(training_images, training_labels, epochs=5)\n",
    "\n",
    "# 6. Evaluate aka Test the Model\n",
    "model.evaluate(test_images, test_labels)\n",
    "\n",
    "# 7. Explore the results\n",
    "classifications = model.predict(test_images)\n",
    "\n",
    "print(classifications[0])\n",
    "print(test_labels[0])"
   ]
  },
  {
   "source": [
    "### My answer\n",
    "\n",
    "The training takes longer, but is more accurate. This is because the data has to go through more neurons to do more calculations in the network.\n",
    "\n",
    "> This doesn't mean \"more is better\" - you can hit the law of diminishing returns very quickly!"
   ],
   "cell_type": "markdown",
   "metadata": {}
  },
  {
   "cell_type": "code",
   "execution_count": null,
   "metadata": {},
   "outputs": [],
   "source": [
    "\"\"\" Exercise 3\n",
    "\n",
    "What would happen if we remove the Flatten() layer?\n",
    "\n",
    "YOU GET AN ERROR ABOUT THE SHAPE OF THE DATA!\n",
    "\n",
    "* This reinforces the rule of thumb that the first layer in your network should be the same shape as your data.\n",
    "\"\"\"\n",
    "\n",
    "import tensorflow as tf\n",
    "print(tf.__version__)\n",
    "\n",
    "mnist = tf.keras.datasets.mnist\n",
    "\n",
    "(training_images, training_labels) ,  (test_images, test_labels) = mnist.load_data()\n",
    "\n",
    "training_images = training_images/255.0\n",
    "test_images = test_images/255.0\n",
    "\n",
    "model = tf.keras.models.Sequential([#tf.keras.layers.Flatten(),\n",
    "                                    tf.keras.layers.Dense(64, activation=tf.nn.relu),\n",
    "                                    tf.keras.layers.Dense(10, activation=tf.nn.softmax)])\n",
    "\n",
    "model.compile(optimizer = 'adam',\n",
    "              loss = 'sparse_categorical_crossentropy')\n",
    "\n",
    "model.fit(training_images, training_labels, epochs=5)\n",
    "\n",
    "model.evaluate(test_images, test_labels)\n",
    "\n",
    "classifications = model.predict(test_images)\n",
    "\n",
    "print(classifications[0])\n",
    "print(test_labels[0])"
   ]
  },
  {
   "cell_type": "code",
   "execution_count": null,
   "metadata": {},
   "outputs": [],
   "source": [
    "\"\"\" Exercise 4\n",
    "\n",
    "Consider the find (output) layers. Why are there 10 of them? What would happen if you had a different amount than 10?\n",
    "\n",
    "YOU GET AN ERROR!\n",
    "\n",
    "* Another rule of thumb - The number of neurons in the last layer should match the number of classes you are classifying for.\n",
    "\"\"\""
   ]
  },
  {
   "cell_type": "code",
   "execution_count": null,
   "metadata": {},
   "outputs": [],
   "source": [
    "\"\"\" Exercise 5\n",
    "\n",
    "Consider the effects of additional layers in the network. What will happen if you add another layer between the one with 512 and the final layer with 10?\n",
    "\n",
    "There isn't a significant impact - because this is relatively simple data. For far more complex data (including color images to be classified as flowers), extra layers are often necessary.\n",
    "\"\"\"\n",
    "import tensorflow as tf\n",
    "print(tf.__version__)\n",
    "\n",
    "mnist = tf.keras.datasets.mnist\n",
    "\n",
    "(training_images, training_labels) ,  (test_images, test_labels) = mnist.load_data()\n",
    "\n",
    "training_images = training_images/255.0\n",
    "test_images = test_images/255.0\n",
    "\n",
    "model = tf.keras.models.Sequential([tf.keras.layers.Flatten(),\n",
    "                                    tf.keras.layers.Dense(512, activation=tf.nn.relu),\n",
    "                                    tf.keras.layers.Dense(256, activation=tf.nn.relu),\n",
    "                                    tf.keras.layers.Dense(10, activation=tf.nn.softmax)])\n",
    "\n",
    "model.compile(optimizer = 'adam',\n",
    "              loss = 'sparse_categorical_crossentropy')\n",
    "\n",
    "model.fit(training_images, training_labels, epochs=5)\n",
    "\n",
    "model.evaluate(test_images, test_labels)\n",
    "\n",
    "classifications = model.predict(test_images)\n",
    "\n",
    "print(classifications[0])\n",
    "print(test_labels[0])"
   ]
  },
  {
   "cell_type": "code",
   "execution_count": null,
   "metadata": {},
   "outputs": [],
   "source": [
    "\"\"\" Exercise 6\n",
    "\n",
    "Consider the impact of training for more or fewer epochs. What would happen?\n",
    "\n",
    "Try 15 epochs -- you'll probably get a model with a much better loss than the one with 5.\n",
    "Try 30 epochs -- you might see the loss value stops decreasing, and sometimes increases.\n",
    "\n",
    "* This is a side effect of something called 'overfitting'. There's no point in wasting your time training if you aren't improving your loss, right?\n",
    "\"\"\""
   ]
  },
  {
   "cell_type": "code",
   "execution_count": null,
   "metadata": {},
   "outputs": [],
   "source": [
    "\"\"\" Exercise 7\n",
    "\n",
    "Before you trained, you normalized the data, going from values that were 0-255 to values that were 0-1. What would be the impact of removing that?\n",
    "\n",
    "It was worse, but I believe it's because the computer has a much larger range of numbers to go through and calculate instead of small numbers between 0-1\n",
    "\"\"\""
   ]
  },
  {
   "cell_type": "code",
   "execution_count": null,
   "metadata": {},
   "outputs": [],
   "source": [
    "\"\"\" Exercise 8\n",
    "\n",
    "Earlier when you trained for extra epochs you had an issue where your loss might change. It might have taken a bit of time for you to wait for the training to do that, and you might have thought 'wouldn't it be nice if I could stop the training when I reach a desired value?' -- i.e. 95% accuracy might be enough for you, and if you reach that after 3 epochs, why sit around waiting for it to finish a lot more epochs....So how would you fix that? Like any other program...you have callbacks! Let's see them in action...\n",
    "\"\"\"\n",
    "import tensorflow as tf\n",
    "print(tf.__version__)\n",
    "\n",
    "class myCallback(tf.keras.callbacks.Callback):\n",
    "    def on_epoch_end(self, epoch, logs={}):  # The training is listening for the on_epoch_end() function\n",
    "        if (logs.get('loss') < 0.4):\n",
    "            print(\"\\nReached 60% accuracy so cancelling training!\")\n",
    "            self.model.stop_training = True\n",
    "\n",
    "callbacks = myCallback()\n",
    "\n",
    "mnist = tf.keras.datasets.fashion_mnist\n",
    "(training_images, training_labels), (test_images, test_labels) = mnist.load_data()\n",
    "\n",
    "training_images=training_images/255.0\n",
    "test_images=test_images/255.0\n",
    "\n",
    "model = tf.keras.models.Sequential([\n",
    "    tf.keras.layers.Flatten(),\n",
    "    tf.keras.layers.Dense(512, activation=tf.nn.relu),\n",
    "    tf.keras.layers.Dense(10, activation=tf.nn.softmax)\n",
    "])\n",
    "\n",
    "model.compile(optimizer='adam', loss='sparse_categorical_crossentropy')\n",
    "model.fit(training_images, training_labels, epochs=5, callbacks=[callbacks])\n"
   ]
  }
 ]
}